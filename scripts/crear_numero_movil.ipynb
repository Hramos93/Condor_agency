{
 "cells": [
  {
   "cell_type": "code",
   "execution_count": 1,
   "metadata": {},
   "outputs": [],
   "source": [
    "import itertools"
   ]
  },
  {
   "cell_type": "code",
   "execution_count": 2,
   "metadata": {},
   "outputs": [],
   "source": [
    "numero = [0, 0, 2, 2, 3, 4, 4, 8, 8, 9, 9]"
   ]
  },
  {
   "cell_type": "code",
   "execution_count": 3,
   "metadata": {},
   "outputs": [],
   "source": [
    "# codigos de area en venezuela\n",
    "codigos = [[0,4,2,4],[0,4,1,4],[0,4,2,6],[0,4,1,6],[0,4,1,2]]\n"
   ]
  },
  {
   "cell_type": "code",
   "execution_count": null,
   "metadata": {},
   "outputs": [],
   "source": [
    "#creamos una funcion de numeros primos\n",
    "def isprime(n):\n",
    "    return (all(False for i in range(2,n) if n % i == 0) and not n < 2)"
   ]
  },
  {
   "cell_type": "code",
   "execution_count": 84,
   "metadata": {},
   "outputs": [],
   "source": [
    "#Creamos todas las combinaciones posibles con el número y aplicamos las condiciones \n",
    "def preprocessing(vector:list, codigo=list):\n",
    "    \"\"\" \n",
    "    vector : lista de numeros con 11 valores \n",
    "\n",
    "    return: lista de valores combinados con patron telefonico de venezuela \n",
    "    \"\"\"\n",
    "\n",
    "    condicion_1 = []\n",
    "    condicion_2 = []\n",
    "    condicion_3 = []\n",
    "    condicion_4 = []\n",
    "    num_completo = []\n",
    "    condicion_5 = []\n",
    "    condicion_6 = []\n",
    "\n",
    "    \n",
    "    for permutacion in itertools.permutations(vector):\n",
    "        # condicion 1, que los valores 8 esten juntos. \n",
    "        if all([\n",
    "            all(permutacion[i] == 8 for i in range(permutacion.index(8), permutacion.index(8) + vector.count(8)))]):\n",
    "                condicion_1.append(permutacion)\n",
    "    print(\"######## condicion 1 lista \\n\")    \n",
    "                \n",
    "    for iterador_movil in condicion_1:\n",
    "        # condicion 2. itera sobre los números de la lista cuando la posición este sobre el 9 y sus extremos sean los valores i en posición antes y despues del 9.\n",
    "        if all([len(set(iterador_movil[i-1:i+2])) == 3 for i in range(1, len(iterador_movil)-1) if iterador_movil[i] == 9]):\n",
    "            condicion_2.append(iterador_movil)\n",
    "\n",
    "    print(\"######## condicion 2 lista \\n\")  \n",
    "    for iterador_movil in condicion_2:\n",
    "        # condicion 3. valores al lado de los 8 sean distintos\n",
    "        #ubicamos los valores 8 en la lista y condicionamos\n",
    "        if all((iterador_movil[i-1] != iterador_movil[-1]) or (iterador_movil[i-1] != iterador_movil[i+2]) for i in range(1, len(iterador_movil)-1) if iterador_movil[i] == 8):\n",
    "            condicion_3.append(iterador_movil)\n",
    "\n",
    "    print(\"######## condicion 3 lista \\n\")  \n",
    "    for iterador_movil in condicion_3:\n",
    "        # condicion 4. itera sobre los números cuando la posición sea 8 y sera verdadero cuando los números entre el 8 sean diferentes\n",
    "        if all(iterador_movil[i-1] == iterador_movil[i+1] for i in range(1, len(iterador_movil)-1) if iterador_movil[i] == 3):\n",
    "            condicion_4.append(iterador_movil)\n",
    "    num_completo = []\n",
    "    for i in condicion_4:   \n",
    "        num_completo.append(codigo + (list(i)))\n",
    "\n",
    "        \n",
    "    print(\"######## condicion 4 lista \\n\")  \n",
    "    for iterador_movil in num_completo:\n",
    "        #condicion 4 las posiciones 5 al 7 deben ser divisible entre \n",
    "        if iterador_movil[4] == 0:\n",
    "            continue\n",
    "        elif all(iterador_movil[i] % iterador_movil[4] == 0 for i in range(5, 8)):        \n",
    "            condicion_5.append(iterador_movil)\n",
    "\n",
    "    print(\"######## condicion 5 lista \\n\")  \n",
    "    for iterador_movil in condicion_5:\n",
    "        # no consideramos valores divibles entre 0\n",
    "        if iterador_movil[-1] == 0:\n",
    "            continue\n",
    "        # penultimo divisible entre el ultimo\n",
    "        elif iterador_movil[-2] % iterador_movil[-1] == 0:\n",
    "            condicion_6.append(iterador_movil)\n",
    "\n",
    "    print(\"######## condicion 6 lista \\n\")  \n",
    "    condicion_7 = []\n",
    "    for  iterador_movil in condicion_6:\n",
    "        # ultimo numero primo\n",
    "        if isprime(iterador_movil[-1]):\n",
    "            condicion_7.append(iterador_movil)\n",
    "\n",
    "    print(\"######## condicion 7 lista \\n\")  \n",
    "    condicion_7.sort()\n",
    "    resultado = list(k for k,_ in itertools.groupby(condicion_7))\n",
    "\n",
    "    print(f'### resultado ### \\n {resultado}')\n",
    "    \n",
    "\n",
    "\n",
    "    return resultado "
   ]
  },
  {
   "cell_type": "code",
   "execution_count": 89,
   "metadata": {},
   "outputs": [],
   "source": [
    "# detector de codigos en la lista\n",
    "def generator_comb(vector):\n",
    "    \"\"\"\n",
    "    itera sobre la lista codigos para conseguir cual lista se encuentra entre los valores de la lista de números\n",
    "    sino consigue un codigo de area, se retorna un string notificando que no existel codigo. \n",
    "    \n",
    "    return: codigo aceptado.\n",
    "    else string \n",
    "    \"\"\"\n",
    "    if all(isinstance(x, int) for x in vector == True):\n",
    "        if len(vector) == 11:\n",
    "            for i in codigos:\n",
    "                if set(i).issubset(set(vector)):\n",
    "                    codigo=i\n",
    "                    return preprocessing(vector,codigo)\n",
    "                else : return print('no existe el codigo de area ')\n",
    "        else: print(\"la cantidad de elementos debe ser 11\")\n",
    "    else: print(\"inserte una lista con valores enteros\")\n",
    "            \n",
    "  "
   ]
  },
  {
   "cell_type": "code",
   "execution_count": 86,
   "metadata": {},
   "outputs": [
    {
     "name": "stdout",
     "output_type": "stream",
     "text": [
      "######## condicion 1 lista \n",
      "\n",
      "######## condicion 2 lista \n",
      "\n",
      "######## condicion 3 lista \n",
      "\n",
      "######## condicion 4 lista \n",
      "\n",
      "######## condicion 5 lista \n",
      "\n",
      "######## condicion 6 lista \n",
      "\n",
      "######## condicion 7 lista \n",
      "\n",
      "### resultado ### \n",
      " [[0, 4, 2, 4, 2, 0, 8, 8, 9, 4, 9, 3], [0, 4, 2, 4, 2, 4, 8, 8, 9, 0, 9, 3], [0, 4, 2, 4, 2, 8, 8, 0, 9, 4, 9, 3], [0, 4, 2, 4, 2, 8, 8, 4, 9, 0, 9, 3], [0, 4, 2, 4, 3, 9, 0, 9, 4, 8, 8, 2], [0, 4, 2, 4, 3, 9, 0, 9, 8, 8, 4, 2], [0, 4, 2, 4, 4, 0, 8, 8, 9, 2, 9, 3], [0, 4, 2, 4, 4, 8, 8, 0, 9, 2, 9, 3]]\n"
     ]
    }
   ],
   "source": [
    "resultado =generator_comb(numero)\n"
   ]
  },
  {
   "cell_type": "code",
   "execution_count": 74,
   "metadata": {},
   "outputs": [
    {
     "data": {
      "text/plain": [
       "[[0, 4, 2, 4, 2, 0, 8, 8, 9, 4, 9, 3],\n",
       " [0, 4, 2, 4, 2, 4, 8, 8, 9, 0, 9, 3],\n",
       " [0, 4, 2, 4, 2, 8, 8, 0, 9, 4, 9, 3],\n",
       " [0, 4, 2, 4, 2, 8, 8, 4, 9, 0, 9, 3],\n",
       " [0, 4, 2, 4, 3, 9, 0, 9, 4, 8, 8, 2],\n",
       " [0, 4, 2, 4, 3, 9, 0, 9, 8, 8, 4, 2],\n",
       " [0, 4, 2, 4, 4, 0, 8, 8, 9, 2, 9, 3],\n",
       " [0, 4, 2, 4, 4, 8, 8, 0, 9, 2, 9, 3]]"
      ]
     },
     "execution_count": 74,
     "metadata": {},
     "output_type": "execute_result"
    }
   ],
   "source": [
    "resultado"
   ]
  },
  {
   "cell_type": "code",
   "execution_count": null,
   "metadata": {},
   "outputs": [],
   "source": []
  }
 ],
 "metadata": {
  "kernelspec": {
   "display_name": "Python 3",
   "language": "python",
   "name": "python3"
  },
  "language_info": {
   "codemirror_mode": {
    "name": "ipython",
    "version": 3
   },
   "file_extension": ".py",
   "mimetype": "text/x-python",
   "name": "python",
   "nbconvert_exporter": "python",
   "pygments_lexer": "ipython3",
   "version": "3.11.5"
  }
 },
 "nbformat": 4,
 "nbformat_minor": 2
}
