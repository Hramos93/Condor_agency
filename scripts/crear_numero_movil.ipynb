{
 "cells": [
  {
   "cell_type": "code",
   "execution_count": 1,
   "metadata": {},
   "outputs": [],
   "source": [
    "import itertools"
   ]
  },
  {
   "cell_type": "code",
   "execution_count": 2,
   "metadata": {},
   "outputs": [],
   "source": [
    "numero = [0, 0, 2, 2, 3, 4, 4, 8, 8, 9, 9]"
   ]
  },
  {
   "cell_type": "code",
   "execution_count": 3,
   "metadata": {},
   "outputs": [],
   "source": [
    "# codigos de area en venezuela\n",
    "codigos = [[0,4,2,4],[0,4,1,4],[0,4,2,6],[0,4,1,6],[0,4,1,2]]\n"
   ]
  },
  {
   "cell_type": "code",
   "execution_count": 4,
   "metadata": {},
   "outputs": [],
   "source": [
    "# detector de codigos en la lista\n",
    "def fun_codigo():\n",
    "    \"\"\"\n",
    "    itera sobre la lista codigos para conseguir cual lista se encuentra entre los valores de la lista de números\n",
    "    sino consigue un codigo de area, se retorna un string notificando que no existel codigo. \n",
    "    \"\"\"\n",
    "    for i in codigos:\n",
    "        if set(i).issubset(set(numero)):\n",
    "            codigo=i\n",
    "            return codigo \n",
    "        else : return print('no existe el codigo de area ')\n",
    "            \n",
    "  "
   ]
  },
  {
   "cell_type": "code",
   "execution_count": 5,
   "metadata": {},
   "outputs": [
    {
     "name": "stdout",
     "output_type": "stream",
     "text": [
      "[0, 4, 2, 4]\n"
     ]
    }
   ],
   "source": [
    "codigo =fun_codigo()\n",
    "print(codigo)"
   ]
  },
  {
   "cell_type": "code",
   "execution_count": 6,
   "metadata": {},
   "outputs": [],
   "source": [
    "# eliminamos los valores del codigo del número para procesar \n",
    "for i in list(set(codigo)):\n",
    "       del numero[numero.index(i)]"
   ]
  },
  {
   "cell_type": "code",
   "execution_count": 7,
   "metadata": {},
   "outputs": [],
   "source": [
    "#Creamos todas las combinaciones posibles con el número y aplicamos las condiciones \n",
    "def generar_combinaciones(vector):\n",
    "    condicion_1 = []\n",
    "    for permutacion in itertools.permutations(vector):\n",
    "        # condicion 1, que los valores 8 esten juntos. \n",
    "        if all([\n",
    "            all(permutacion[i] == 8 for i in range(permutacion.index(8), permutacion.index(8) + vector.count(8)))]):\n",
    "                condicion_1.append(permutacion)\n",
    "    return condicion_1"
   ]
  },
  {
   "cell_type": "code",
   "execution_count": 315,
   "metadata": {},
   "outputs": [],
   "source": [
    "condicion_1a = generar_combinaciones(numero)"
   ]
  },
  {
   "cell_type": "code",
   "execution_count": 9,
   "metadata": {},
   "outputs": [],
   "source": [
    "condicion_2 = []\n",
    "for iterador_movil in condicion_1a:\n",
    "    # condicion 2. itera sobre los números de la lista cuando la posición este sobre el 9 y sus extremos sean los valores i en posición antes y despues del 9.\n",
    "    if all([len(set(iterador_movil[i-1:i+2])) == 3 for i in range(1, len(iterador_movil)-1) if iterador_movil[i] == 9]):\n",
    "        condicion_2.append(iterador_movil)\n",
    "\n"
   ]
  },
  {
   "cell_type": "code",
   "execution_count": 28,
   "metadata": {},
   "outputs": [],
   "source": [
    "condicion_3 = []\n",
    "for iterador_movil in condicion_2:\n",
    "    # condicion 3. valores al lado de los 8 sean distintos\n",
    "    #ubicamos los valores 8 en la lista y condicionamos\n",
    "    if all((iterador_movil[i-1] != iterador_movil[-1]) or (iterador_movil[i-1] != iterador_movil[i+2]) for i in range(1, len(iterador_movil)-1) if iterador_movil[i] == 8):\n",
    "        condicion_3.append(iterador_movil)\n",
    "    "
   ]
  },
  {
   "cell_type": "code",
   "execution_count": 270,
   "metadata": {},
   "outputs": [],
   "source": [
    "condicion_4 = []\n",
    "for permutacion in condicion_3:\n",
    "    # condicion 4. itera sobre los números cuando la posición sea 8 y sera verdadero cuando los números entre el 8 sean diferentes\n",
    "    if all(iterador_movil[i-1] == iterador_movil[i+1] for i in range(1, len(iterador_movil)-1) if iterador_movil[i] == 3):\n",
    "        condicion_4.append(iterador_movil)\n"
   ]
  },
  {
   "cell_type": "code",
   "execution_count": 271,
   "metadata": {},
   "outputs": [],
   "source": [
    "#unimos los códigos de area al número\n",
    "num_completo = []\n",
    "for i in condicion_3:   \n",
    "    num_completo.append(codigo + (list(i)))"
   ]
  },
  {
   "cell_type": "code",
   "execution_count": 272,
   "metadata": {},
   "outputs": [],
   "source": [
    "condicion_4 = []\n",
    "for permutacion in num_completo:\n",
    "    #condicion 4 \n",
    "    if permutacion[4] == 0:\n",
    "        continue\n",
    "    elif all(permutacion[i] % permutacion[4] == 0 for i in range(5, 8)):        \n",
    "        condicion_4.append(permutacion)\n"
   ]
  },
  {
   "cell_type": "code",
   "execution_count": 277,
   "metadata": {},
   "outputs": [],
   "source": [
    "resultado_6 = []\n",
    "for permutacion in resultados_5:\n",
    "    if permutacion[-1] == 0:\n",
    "        continue\n",
    "    elif permutacion[-2] % permutacion[-1] == 0:\n",
    "        resultado_6.append(permutacion)\n",
    "        "
   ]
  },
  {
   "cell_type": "code",
   "execution_count": 278,
   "metadata": {},
   "outputs": [
    {
     "data": {
      "text/plain": [
       "144"
      ]
     },
     "execution_count": 278,
     "metadata": {},
     "output_type": "execute_result"
    }
   ],
   "source": [
    "len(resultado_6)"
   ]
  },
  {
   "cell_type": "code",
   "execution_count": 279,
   "metadata": {},
   "outputs": [],
   "source": [
    "def isprime(n):\n",
    "    return (all(False for i in range(2,n) if n % i == 0) and not n < 2)"
   ]
  },
  {
   "cell_type": "code",
   "execution_count": 280,
   "metadata": {},
   "outputs": [],
   "source": [
    "resultado_7 = []\n",
    "for  permutacion in resultado_6:\n",
    "    if isprime(permutacion[-1]):\n",
    "        resultado_7.append(permutacion)\n",
    "            "
   ]
  },
  {
   "cell_type": "code",
   "execution_count": null,
   "metadata": {},
   "outputs": [],
   "source": []
  }
 ],
 "metadata": {
  "kernelspec": {
   "display_name": "Python 3",
   "language": "python",
   "name": "python3"
  },
  "language_info": {
   "codemirror_mode": {
    "name": "ipython",
    "version": 3
   },
   "file_extension": ".py",
   "mimetype": "text/x-python",
   "name": "python",
   "nbconvert_exporter": "python",
   "pygments_lexer": "ipython3",
   "version": "3.11.5"
  }
 },
 "nbformat": 4,
 "nbformat_minor": 2
}
